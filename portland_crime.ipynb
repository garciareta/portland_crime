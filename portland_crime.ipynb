{
 "cells": [
  {
   "cell_type": "code",
   "execution_count": 1,
   "metadata": {},
   "outputs": [],
   "source": [
    "import pandas as pd\n",
    "import os \n",
    "import matplotlib.pyplot as plt"
   ]
  },
  {
   "cell_type": "code",
   "execution_count": null,
   "metadata": {},
   "outputs": [],
   "source": []
  },
  {
   "cell_type": "code",
   "execution_count": 2,
   "metadata": {},
   "outputs": [
    {
     "data": {
      "text/plain": [
       "'C:\\\\Users\\\\berni\\\\Desktop\\\\portland_crime'"
      ]
     },
     "execution_count": 2,
     "metadata": {},
     "output_type": "execute_result"
    }
   ],
   "source": [
    "pwd"
   ]
  },
  {
   "cell_type": "code",
   "execution_count": 3,
   "metadata": {},
   "outputs": [],
   "source": [
    "path = os.path.join(\"Resources\", \"crime_incident_data2017.csv\")"
   ]
  },
  {
   "cell_type": "code",
   "execution_count": 4,
   "metadata": {},
   "outputs": [],
   "source": [
    "df = pd.read_csv(path)"
   ]
  },
  {
   "cell_type": "code",
   "execution_count": 5,
   "metadata": {},
   "outputs": [
    {
     "data": {
      "text/html": [
       "<div>\n",
       "<style scoped>\n",
       "    .dataframe tbody tr th:only-of-type {\n",
       "        vertical-align: middle;\n",
       "    }\n",
       "\n",
       "    .dataframe tbody tr th {\n",
       "        vertical-align: top;\n",
       "    }\n",
       "\n",
       "    .dataframe thead th {\n",
       "        text-align: right;\n",
       "    }\n",
       "</style>\n",
       "<table border=\"1\" class=\"dataframe\">\n",
       "  <thead>\n",
       "    <tr style=\"text-align: right;\">\n",
       "      <th></th>\n",
       "      <th>Address</th>\n",
       "      <th>Case Number</th>\n",
       "      <th>Crime Against</th>\n",
       "      <th>Neighborhood</th>\n",
       "      <th>Number of Records</th>\n",
       "      <th>Occur Date</th>\n",
       "      <th>Occur Month Year</th>\n",
       "      <th>Occur Time</th>\n",
       "      <th>Offense Category</th>\n",
       "      <th>Offense Count</th>\n",
       "      <th>Offense Type</th>\n",
       "      <th>Open Data Lat</th>\n",
       "      <th>Open Data Lon</th>\n",
       "      <th>Open Data X</th>\n",
       "      <th>Open Data Y</th>\n",
       "      <th>Report Date</th>\n",
       "      <th>Report Month Year</th>\n",
       "    </tr>\n",
       "  </thead>\n",
       "  <tbody>\n",
       "    <tr>\n",
       "      <th>0</th>\n",
       "      <td>NaN</td>\n",
       "      <td>17-X4762181</td>\n",
       "      <td>Person</td>\n",
       "      <td>NaN</td>\n",
       "      <td>1</td>\n",
       "      <td>1/1/96</td>\n",
       "      <td>1/1/96</td>\n",
       "      <td>800</td>\n",
       "      <td>Sex Offenses</td>\n",
       "      <td>1</td>\n",
       "      <td>Rape</td>\n",
       "      <td>NaN</td>\n",
       "      <td>NaN</td>\n",
       "      <td>NaN</td>\n",
       "      <td>NaN</td>\n",
       "      <td>1/26/17</td>\n",
       "      <td>1/1/17</td>\n",
       "    </tr>\n",
       "    <tr>\n",
       "      <th>1</th>\n",
       "      <td>NaN</td>\n",
       "      <td>17-X4757824</td>\n",
       "      <td>Property</td>\n",
       "      <td>Centennial</td>\n",
       "      <td>1</td>\n",
       "      <td>1/20/00</td>\n",
       "      <td>1/1/00</td>\n",
       "      <td>1615</td>\n",
       "      <td>Fraud Offenses</td>\n",
       "      <td>1</td>\n",
       "      <td>Identity Theft</td>\n",
       "      <td>NaN</td>\n",
       "      <td>NaN</td>\n",
       "      <td>NaN</td>\n",
       "      <td>NaN</td>\n",
       "      <td>1/20/17</td>\n",
       "      <td>1/1/17</td>\n",
       "    </tr>\n",
       "    <tr>\n",
       "      <th>2</th>\n",
       "      <td>200 BLOCK OF SE 78TH AVE</td>\n",
       "      <td>17-900367</td>\n",
       "      <td>Property</td>\n",
       "      <td>Montavilla</td>\n",
       "      <td>1</td>\n",
       "      <td>12/1/03</td>\n",
       "      <td>12/1/03</td>\n",
       "      <td>800</td>\n",
       "      <td>Fraud Offenses</td>\n",
       "      <td>1</td>\n",
       "      <td>False Pretenses/Swindle/Confidence Game</td>\n",
       "      <td>45.5207</td>\n",
       "      <td>-122.583</td>\n",
       "      <td>7668150.0</td>\n",
       "      <td>682825.0</td>\n",
       "      <td>1/9/17</td>\n",
       "      <td>1/1/17</td>\n",
       "    </tr>\n",
       "    <tr>\n",
       "      <th>3</th>\n",
       "      <td>NaN</td>\n",
       "      <td>17-X4748982</td>\n",
       "      <td>Property</td>\n",
       "      <td>Southwest Hills</td>\n",
       "      <td>1</td>\n",
       "      <td>1/1/10</td>\n",
       "      <td>1/1/10</td>\n",
       "      <td>0</td>\n",
       "      <td>Fraud Offenses</td>\n",
       "      <td>1</td>\n",
       "      <td>Identity Theft</td>\n",
       "      <td>NaN</td>\n",
       "      <td>NaN</td>\n",
       "      <td>NaN</td>\n",
       "      <td>NaN</td>\n",
       "      <td>1/5/17</td>\n",
       "      <td>1/1/17</td>\n",
       "    </tr>\n",
       "    <tr>\n",
       "      <th>4</th>\n",
       "      <td>NaN</td>\n",
       "      <td>17-X4748982</td>\n",
       "      <td>Property</td>\n",
       "      <td>Southwest Hills</td>\n",
       "      <td>1</td>\n",
       "      <td>1/1/10</td>\n",
       "      <td>1/1/10</td>\n",
       "      <td>0</td>\n",
       "      <td>Larceny Offenses</td>\n",
       "      <td>1</td>\n",
       "      <td>All Other Larceny</td>\n",
       "      <td>NaN</td>\n",
       "      <td>NaN</td>\n",
       "      <td>NaN</td>\n",
       "      <td>NaN</td>\n",
       "      <td>1/5/17</td>\n",
       "      <td>1/1/17</td>\n",
       "    </tr>\n",
       "    <tr>\n",
       "      <th>...</th>\n",
       "      <td>...</td>\n",
       "      <td>...</td>\n",
       "      <td>...</td>\n",
       "      <td>...</td>\n",
       "      <td>...</td>\n",
       "      <td>...</td>\n",
       "      <td>...</td>\n",
       "      <td>...</td>\n",
       "      <td>...</td>\n",
       "      <td>...</td>\n",
       "      <td>...</td>\n",
       "      <td>...</td>\n",
       "      <td>...</td>\n",
       "      <td>...</td>\n",
       "      <td>...</td>\n",
       "      <td>...</td>\n",
       "      <td>...</td>\n",
       "    </tr>\n",
       "    <tr>\n",
       "      <th>41027</th>\n",
       "      <td>8800 BLOCK OF NE SANDY BLVD</td>\n",
       "      <td>17-285386</td>\n",
       "      <td>Society</td>\n",
       "      <td>Sumner</td>\n",
       "      <td>1</td>\n",
       "      <td>8/31/17</td>\n",
       "      <td>8/1/17</td>\n",
       "      <td>535</td>\n",
       "      <td>Drug/Narcotic Offenses</td>\n",
       "      <td>1</td>\n",
       "      <td>Drug/Narcotic Violations</td>\n",
       "      <td>45.5554</td>\n",
       "      <td>-122.571</td>\n",
       "      <td>7671560.0</td>\n",
       "      <td>695399.0</td>\n",
       "      <td>8/31/17</td>\n",
       "      <td>8/1/17</td>\n",
       "    </tr>\n",
       "    <tr>\n",
       "      <th>41028</th>\n",
       "      <td>9700 BLOCK OF SE STARK ST</td>\n",
       "      <td>17-286082</td>\n",
       "      <td>Society</td>\n",
       "      <td>Hazelwood</td>\n",
       "      <td>1</td>\n",
       "      <td>8/31/17</td>\n",
       "      <td>8/1/17</td>\n",
       "      <td>1619</td>\n",
       "      <td>Prostitution Offenses</td>\n",
       "      <td>1</td>\n",
       "      <td>Prostitution</td>\n",
       "      <td>45.5191</td>\n",
       "      <td>-122.563</td>\n",
       "      <td>7673292.0</td>\n",
       "      <td>682101.0</td>\n",
       "      <td>8/31/17</td>\n",
       "      <td>8/1/17</td>\n",
       "    </tr>\n",
       "    <tr>\n",
       "      <th>41029</th>\n",
       "      <td>9700 BLOCK OF SE STARK ST</td>\n",
       "      <td>17-286413</td>\n",
       "      <td>Society</td>\n",
       "      <td>Hazelwood</td>\n",
       "      <td>1</td>\n",
       "      <td>8/31/17</td>\n",
       "      <td>8/1/17</td>\n",
       "      <td>1959</td>\n",
       "      <td>Prostitution Offenses</td>\n",
       "      <td>1</td>\n",
       "      <td>Prostitution</td>\n",
       "      <td>45.5191</td>\n",
       "      <td>-122.563</td>\n",
       "      <td>7673292.0</td>\n",
       "      <td>682101.0</td>\n",
       "      <td>8/31/17</td>\n",
       "      <td>8/1/17</td>\n",
       "    </tr>\n",
       "    <tr>\n",
       "      <th>41030</th>\n",
       "      <td>UNKNOWN ADDRESS</td>\n",
       "      <td>17-286445</td>\n",
       "      <td>Society</td>\n",
       "      <td>NaN</td>\n",
       "      <td>1</td>\n",
       "      <td>8/31/17</td>\n",
       "      <td>8/1/17</td>\n",
       "      <td>2021</td>\n",
       "      <td>Prostitution Offenses</td>\n",
       "      <td>1</td>\n",
       "      <td>Prostitution</td>\n",
       "      <td>NaN</td>\n",
       "      <td>NaN</td>\n",
       "      <td>NaN</td>\n",
       "      <td>NaN</td>\n",
       "      <td>8/31/17</td>\n",
       "      <td>8/1/17</td>\n",
       "    </tr>\n",
       "    <tr>\n",
       "      <th>41031</th>\n",
       "      <td>8000 BLOCK OF SE POWELL BLVD</td>\n",
       "      <td>17-286659</td>\n",
       "      <td>Society</td>\n",
       "      <td>Foster-Powell</td>\n",
       "      <td>1</td>\n",
       "      <td>8/31/17</td>\n",
       "      <td>8/1/17</td>\n",
       "      <td>2354</td>\n",
       "      <td>Weapon Law Violations</td>\n",
       "      <td>1</td>\n",
       "      <td>Weapons Law Violations</td>\n",
       "      <td>45.4974</td>\n",
       "      <td>-122.580</td>\n",
       "      <td>7668725.0</td>\n",
       "      <td>674298.0</td>\n",
       "      <td>8/31/17</td>\n",
       "      <td>8/1/17</td>\n",
       "    </tr>\n",
       "  </tbody>\n",
       "</table>\n",
       "<p>41032 rows × 17 columns</p>\n",
       "</div>"
      ],
      "text/plain": [
       "                            Address  Case Number Crime Against  \\\n",
       "0                               NaN  17-X4762181        Person   \n",
       "1                               NaN  17-X4757824      Property   \n",
       "2          200 BLOCK OF SE 78TH AVE    17-900367      Property   \n",
       "3                               NaN  17-X4748982      Property   \n",
       "4                               NaN  17-X4748982      Property   \n",
       "...                             ...          ...           ...   \n",
       "41027   8800 BLOCK OF NE SANDY BLVD    17-285386       Society   \n",
       "41028     9700 BLOCK OF SE STARK ST    17-286082       Society   \n",
       "41029     9700 BLOCK OF SE STARK ST    17-286413       Society   \n",
       "41030               UNKNOWN ADDRESS    17-286445       Society   \n",
       "41031  8000 BLOCK OF SE POWELL BLVD    17-286659       Society   \n",
       "\n",
       "          Neighborhood  Number of Records Occur Date Occur Month Year  \\\n",
       "0                  NaN                  1     1/1/96           1/1/96   \n",
       "1           Centennial                  1    1/20/00           1/1/00   \n",
       "2           Montavilla                  1    12/1/03          12/1/03   \n",
       "3      Southwest Hills                  1     1/1/10           1/1/10   \n",
       "4      Southwest Hills                  1     1/1/10           1/1/10   \n",
       "...                ...                ...        ...              ...   \n",
       "41027           Sumner                  1    8/31/17           8/1/17   \n",
       "41028        Hazelwood                  1    8/31/17           8/1/17   \n",
       "41029        Hazelwood                  1    8/31/17           8/1/17   \n",
       "41030              NaN                  1    8/31/17           8/1/17   \n",
       "41031    Foster-Powell                  1    8/31/17           8/1/17   \n",
       "\n",
       "       Occur Time        Offense Category  Offense Count  \\\n",
       "0             800            Sex Offenses              1   \n",
       "1            1615          Fraud Offenses              1   \n",
       "2             800          Fraud Offenses              1   \n",
       "3               0          Fraud Offenses              1   \n",
       "4               0        Larceny Offenses              1   \n",
       "...           ...                     ...            ...   \n",
       "41027         535  Drug/Narcotic Offenses              1   \n",
       "41028        1619   Prostitution Offenses              1   \n",
       "41029        1959   Prostitution Offenses              1   \n",
       "41030        2021   Prostitution Offenses              1   \n",
       "41031        2354   Weapon Law Violations              1   \n",
       "\n",
       "                                  Offense Type  Open Data Lat  Open Data Lon  \\\n",
       "0                                         Rape            NaN            NaN   \n",
       "1                               Identity Theft            NaN            NaN   \n",
       "2      False Pretenses/Swindle/Confidence Game        45.5207       -122.583   \n",
       "3                               Identity Theft            NaN            NaN   \n",
       "4                            All Other Larceny            NaN            NaN   \n",
       "...                                        ...            ...            ...   \n",
       "41027                 Drug/Narcotic Violations        45.5554       -122.571   \n",
       "41028                             Prostitution        45.5191       -122.563   \n",
       "41029                             Prostitution        45.5191       -122.563   \n",
       "41030                             Prostitution            NaN            NaN   \n",
       "41031                   Weapons Law Violations        45.4974       -122.580   \n",
       "\n",
       "       Open Data X  Open Data Y Report Date Report Month Year  \n",
       "0              NaN          NaN     1/26/17            1/1/17  \n",
       "1              NaN          NaN     1/20/17            1/1/17  \n",
       "2        7668150.0     682825.0      1/9/17            1/1/17  \n",
       "3              NaN          NaN      1/5/17            1/1/17  \n",
       "4              NaN          NaN      1/5/17            1/1/17  \n",
       "...            ...          ...         ...               ...  \n",
       "41027    7671560.0     695399.0     8/31/17            8/1/17  \n",
       "41028    7673292.0     682101.0     8/31/17            8/1/17  \n",
       "41029    7673292.0     682101.0     8/31/17            8/1/17  \n",
       "41030          NaN          NaN     8/31/17            8/1/17  \n",
       "41031    7668725.0     674298.0     8/31/17            8/1/17  \n",
       "\n",
       "[41032 rows x 17 columns]"
      ]
     },
     "execution_count": 5,
     "metadata": {},
     "output_type": "execute_result"
    }
   ],
   "source": [
    "df"
   ]
  },
  {
   "cell_type": "code",
   "execution_count": 6,
   "metadata": {},
   "outputs": [
    {
     "data": {
      "text/html": [
       "<div>\n",
       "<style scoped>\n",
       "    .dataframe tbody tr th:only-of-type {\n",
       "        vertical-align: middle;\n",
       "    }\n",
       "\n",
       "    .dataframe tbody tr th {\n",
       "        vertical-align: top;\n",
       "    }\n",
       "\n",
       "    .dataframe thead th {\n",
       "        text-align: right;\n",
       "    }\n",
       "</style>\n",
       "<table border=\"1\" class=\"dataframe\">\n",
       "  <thead>\n",
       "    <tr style=\"text-align: right;\">\n",
       "      <th></th>\n",
       "      <th>Address</th>\n",
       "      <th>Case Number</th>\n",
       "      <th>Crime Against</th>\n",
       "      <th>Neighborhood</th>\n",
       "      <th>Number of Records</th>\n",
       "      <th>Occur Date</th>\n",
       "      <th>Occur Month Year</th>\n",
       "      <th>Occur Time</th>\n",
       "      <th>Offense Category</th>\n",
       "      <th>Offense Count</th>\n",
       "      <th>Offense Type</th>\n",
       "      <th>Open Data Lat</th>\n",
       "      <th>Open Data Lon</th>\n",
       "      <th>Open Data X</th>\n",
       "      <th>Open Data Y</th>\n",
       "      <th>Report Date</th>\n",
       "      <th>Report Month Year</th>\n",
       "    </tr>\n",
       "  </thead>\n",
       "  <tbody>\n",
       "    <tr>\n",
       "      <th>0</th>\n",
       "      <td>NaN</td>\n",
       "      <td>17-X4762181</td>\n",
       "      <td>Person</td>\n",
       "      <td>NaN</td>\n",
       "      <td>1</td>\n",
       "      <td>1/1/96</td>\n",
       "      <td>1/1/96</td>\n",
       "      <td>800</td>\n",
       "      <td>Sex Offenses</td>\n",
       "      <td>1</td>\n",
       "      <td>Rape</td>\n",
       "      <td>NaN</td>\n",
       "      <td>NaN</td>\n",
       "      <td>NaN</td>\n",
       "      <td>NaN</td>\n",
       "      <td>1/26/17</td>\n",
       "      <td>1/1/17</td>\n",
       "    </tr>\n",
       "  </tbody>\n",
       "</table>\n",
       "</div>"
      ],
      "text/plain": [
       "  Address  Case Number Crime Against Neighborhood  Number of Records  \\\n",
       "0     NaN  17-X4762181        Person          NaN                  1   \n",
       "\n",
       "  Occur Date Occur Month Year  Occur Time Offense Category  Offense Count  \\\n",
       "0     1/1/96           1/1/96         800     Sex Offenses              1   \n",
       "\n",
       "  Offense Type  Open Data Lat  Open Data Lon  Open Data X  Open Data Y  \\\n",
       "0         Rape            NaN            NaN          NaN          NaN   \n",
       "\n",
       "  Report Date Report Month Year  \n",
       "0     1/26/17            1/1/17  "
      ]
     },
     "execution_count": 6,
     "metadata": {},
     "output_type": "execute_result"
    }
   ],
   "source": [
    "df.head(1)"
   ]
  },
  {
   "cell_type": "code",
   "execution_count": 7,
   "metadata": {},
   "outputs": [
    {
     "data": {
      "text/plain": [
       "(41032, 17)"
      ]
     },
     "execution_count": 7,
     "metadata": {},
     "output_type": "execute_result"
    }
   ],
   "source": [
    "df.shape"
   ]
  },
  {
   "cell_type": "code",
   "execution_count": null,
   "metadata": {},
   "outputs": [],
   "source": []
  },
  {
   "cell_type": "code",
   "execution_count": 8,
   "metadata": {},
   "outputs": [
    {
     "data": {
      "text/plain": [
       "(41032, 17)"
      ]
     },
     "execution_count": 8,
     "metadata": {},
     "output_type": "execute_result"
    }
   ],
   "source": [
    "df.shape"
   ]
  },
  {
   "cell_type": "code",
   "execution_count": 9,
   "metadata": {},
   "outputs": [
    {
     "data": {
      "text/plain": [
       "Address              37365\n",
       "Case Number          41032\n",
       "Crime Against        41032\n",
       "Neighborhood         39712\n",
       "Number of Records    41032\n",
       "Occur Date           41032\n",
       "Occur Month Year     41032\n",
       "Occur Time           41032\n",
       "Offense Category     41032\n",
       "Offense Count        41032\n",
       "Offense Type         41032\n",
       "Open Data Lat        36712\n",
       "Open Data Lon        36712\n",
       "Open Data X          36712\n",
       "Open Data Y          36712\n",
       "Report Date          41032\n",
       "Report Month Year    41032\n",
       "dtype: int64"
      ]
     },
     "execution_count": 9,
     "metadata": {},
     "output_type": "execute_result"
    }
   ],
   "source": [
    "df.count()"
   ]
  },
  {
   "cell_type": "code",
   "execution_count": 10,
   "metadata": {},
   "outputs": [
    {
     "data": {
      "text/plain": [
       "(36146, 17)"
      ]
     },
     "execution_count": 10,
     "metadata": {},
     "output_type": "execute_result"
    }
   ],
   "source": [
    "df.dropna().shape"
   ]
  },
  {
   "cell_type": "code",
   "execution_count": 11,
   "metadata": {},
   "outputs": [],
   "source": [
    "df = pd.read_csv(path).rename(columns = lambda s: s.lower().replace(\" \", \"_\"))\\\n",
    "    [['neighborhood', \n",
    "    'occur_date', \n",
    "    'occur_time',\n",
    "    'offense_category', \n",
    "    'offense_count', \n",
    "    'offense_type',\n",
    "    'report_date'\n",
    "]].dropna()\\\n",
    "  .assign(report_date =lambda df : pd.to_datetime(df[\"report_date\"], format=\"%m/%d/%y\"))\n",
    "\n",
    "occur_datetime = pd.to_datetime(\n",
    "    df[\"occur_date\"] + \":\" + df[\"occur_time\"].astype(\"str\").apply(lambda s: s[:-2] + \":\" + s[-2:]),\n",
    "    format=\"%m/%d/%y:%H:%M\", \n",
    "    errors =\"coerce\"\n",
    ")\n",
    "\n",
    "df = df.assign(occur_datetime = occur_datetime)\\\n",
    "    .drop(\"occur_date\", axis = 1)\\\n",
    "    .drop(\"occur_time\", axis = 1).dropna()"
   ]
  },
  {
   "cell_type": "code",
   "execution_count": 12,
   "metadata": {},
   "outputs": [
    {
     "data": {
      "text/plain": [
       "Index(['neighborhood', 'offense_category', 'offense_count', 'offense_type',\n",
       "       'report_date', 'occur_datetime'],\n",
       "      dtype='object')"
      ]
     },
     "execution_count": 12,
     "metadata": {},
     "output_type": "execute_result"
    }
   ],
   "source": [
    "df.columns"
   ]
  },
  {
   "cell_type": "code",
   "execution_count": null,
   "metadata": {},
   "outputs": [],
   "source": []
  },
  {
   "cell_type": "code",
   "execution_count": 13,
   "metadata": {},
   "outputs": [
    {
     "data": {
      "text/html": [
       "<div>\n",
       "<style scoped>\n",
       "    .dataframe tbody tr th:only-of-type {\n",
       "        vertical-align: middle;\n",
       "    }\n",
       "\n",
       "    .dataframe tbody tr th {\n",
       "        vertical-align: top;\n",
       "    }\n",
       "\n",
       "    .dataframe thead th {\n",
       "        text-align: right;\n",
       "    }\n",
       "</style>\n",
       "<table border=\"1\" class=\"dataframe\">\n",
       "  <thead>\n",
       "    <tr style=\"text-align: right;\">\n",
       "      <th></th>\n",
       "      <th>neighborhood</th>\n",
       "      <th>offense_category</th>\n",
       "      <th>offense_count</th>\n",
       "      <th>offense_type</th>\n",
       "      <th>report_date</th>\n",
       "      <th>occur_datetime</th>\n",
       "    </tr>\n",
       "  </thead>\n",
       "  <tbody>\n",
       "    <tr>\n",
       "      <th>1</th>\n",
       "      <td>Centennial</td>\n",
       "      <td>Fraud Offenses</td>\n",
       "      <td>1</td>\n",
       "      <td>Identity Theft</td>\n",
       "      <td>2017-01-20</td>\n",
       "      <td>2000-01-20 16:15:00</td>\n",
       "    </tr>\n",
       "    <tr>\n",
       "      <th>2</th>\n",
       "      <td>Montavilla</td>\n",
       "      <td>Fraud Offenses</td>\n",
       "      <td>1</td>\n",
       "      <td>False Pretenses/Swindle/Confidence Game</td>\n",
       "      <td>2017-01-09</td>\n",
       "      <td>2003-12-01 08:00:00</td>\n",
       "    </tr>\n",
       "    <tr>\n",
       "      <th>5</th>\n",
       "      <td>King</td>\n",
       "      <td>Fraud Offenses</td>\n",
       "      <td>1</td>\n",
       "      <td>Identity Theft</td>\n",
       "      <td>2017-01-03</td>\n",
       "      <td>2010-11-28 16:12:00</td>\n",
       "    </tr>\n",
       "    <tr>\n",
       "      <th>6</th>\n",
       "      <td>Vernon</td>\n",
       "      <td>Fraud Offenses</td>\n",
       "      <td>1</td>\n",
       "      <td>False Pretenses/Swindle/Confidence Game</td>\n",
       "      <td>2017-01-26</td>\n",
       "      <td>2013-11-08 12:00:00</td>\n",
       "    </tr>\n",
       "    <tr>\n",
       "      <th>7</th>\n",
       "      <td>Vernon</td>\n",
       "      <td>Fraud Offenses</td>\n",
       "      <td>1</td>\n",
       "      <td>Identity Theft</td>\n",
       "      <td>2017-01-26</td>\n",
       "      <td>2013-11-08 12:00:00</td>\n",
       "    </tr>\n",
       "  </tbody>\n",
       "</table>\n",
       "</div>"
      ],
      "text/plain": [
       "  neighborhood offense_category  offense_count  \\\n",
       "1   Centennial   Fraud Offenses              1   \n",
       "2   Montavilla   Fraud Offenses              1   \n",
       "5         King   Fraud Offenses              1   \n",
       "6       Vernon   Fraud Offenses              1   \n",
       "7       Vernon   Fraud Offenses              1   \n",
       "\n",
       "                              offense_type report_date      occur_datetime  \n",
       "1                           Identity Theft  2017-01-20 2000-01-20 16:15:00  \n",
       "2  False Pretenses/Swindle/Confidence Game  2017-01-09 2003-12-01 08:00:00  \n",
       "5                           Identity Theft  2017-01-03 2010-11-28 16:12:00  \n",
       "6  False Pretenses/Swindle/Confidence Game  2017-01-26 2013-11-08 12:00:00  \n",
       "7                           Identity Theft  2017-01-26 2013-11-08 12:00:00  "
      ]
     },
     "execution_count": 13,
     "metadata": {},
     "output_type": "execute_result"
    }
   ],
   "source": [
    "df.head()"
   ]
  },
  {
   "cell_type": "code",
   "execution_count": null,
   "metadata": {},
   "outputs": [],
   "source": []
  },
  {
   "cell_type": "code",
   "execution_count": null,
   "metadata": {},
   "outputs": [],
   "source": []
  },
  {
   "cell_type": "code",
   "execution_count": 14,
   "metadata": {},
   "outputs": [
    {
     "data": {
      "text/plain": [
       "(37168, 6)"
      ]
     },
     "execution_count": 14,
     "metadata": {},
     "output_type": "execute_result"
    }
   ],
   "source": [
    "df.shape"
   ]
  },
  {
   "cell_type": "code",
   "execution_count": 15,
   "metadata": {},
   "outputs": [
    {
     "data": {
      "text/plain": [
       "141       2\n",
       "256       2\n",
       "984       2\n",
       "2059      2\n",
       "4311      2\n",
       "5553      2\n",
       "6310      7\n",
       "6941      2\n",
       "8660     16\n",
       "9268      2\n",
       "11707     2\n",
       "12205     2\n",
       "12917     2\n",
       "13779     3\n",
       "13813     2\n",
       "15715     2\n",
       "16977     2\n",
       "17039     2\n",
       "17443     2\n",
       "18005     2\n",
       "23273     2\n",
       "25863     2\n",
       "26446     2\n",
       "26936     2\n",
       "28603     3\n",
       "29411     2\n",
       "29564     2\n",
       "30217     2\n",
       "31211     2\n",
       "31689     4\n",
       "32305     2\n",
       "32833     2\n",
       "33865     2\n",
       "33959     2\n",
       "37279     2\n",
       "37280     2\n",
       "38065     2\n",
       "38418     2\n",
       "39514     2\n",
       "Name: offense_count, dtype: int64"
      ]
     },
     "execution_count": 15,
     "metadata": {},
     "output_type": "execute_result"
    }
   ],
   "source": [
    "df.loc[df[\"offense_count\"] > 1, \"offense_count\"]"
   ]
  },
  {
   "cell_type": "code",
   "execution_count": 16,
   "metadata": {},
   "outputs": [
    {
     "data": {
      "text/plain": [
       "neighborhood                object\n",
       "offense_category            object\n",
       "offense_count                int64\n",
       "offense_type                object\n",
       "report_date         datetime64[ns]\n",
       "occur_datetime      datetime64[ns]\n",
       "dtype: object"
      ]
     },
     "execution_count": 16,
     "metadata": {},
     "output_type": "execute_result"
    }
   ],
   "source": [
    "df.dtypes"
   ]
  },
  {
   "cell_type": "code",
   "execution_count": 17,
   "metadata": {},
   "outputs": [
    {
     "data": {
      "text/plain": [
       "dtype('<M8[ns]')"
      ]
     },
     "execution_count": 17,
     "metadata": {},
     "output_type": "execute_result"
    }
   ],
   "source": [
    "df[\"report_date\"].dtype"
   ]
  },
  {
   "cell_type": "code",
   "execution_count": 18,
   "metadata": {},
   "outputs": [
    {
     "data": {
      "text/plain": [
       "1       2017-01-20\n",
       "2       2017-01-09\n",
       "5       2017-01-03\n",
       "6       2017-01-26\n",
       "7       2017-01-26\n",
       "           ...    \n",
       "41026   2017-08-31\n",
       "41027   2017-08-31\n",
       "41028   2017-08-31\n",
       "41029   2017-08-31\n",
       "41031   2017-08-31\n",
       "Name: report_date, Length: 37168, dtype: datetime64[ns]"
      ]
     },
     "execution_count": 18,
     "metadata": {},
     "output_type": "execute_result"
    }
   ],
   "source": [
    "pd.to_datetime(df[\"report_date\"], format=\"%m/%d/%y\")"
   ]
  },
  {
   "cell_type": "code",
   "execution_count": 19,
   "metadata": {},
   "outputs": [
    {
     "data": {
      "text/plain": [
       "neighborhood                object\n",
       "offense_category            object\n",
       "offense_count                int64\n",
       "offense_type                object\n",
       "report_date         datetime64[ns]\n",
       "occur_datetime      datetime64[ns]\n",
       "dtype: object"
      ]
     },
     "execution_count": 19,
     "metadata": {},
     "output_type": "execute_result"
    }
   ],
   "source": [
    "df.dtypes"
   ]
  },
  {
   "cell_type": "code",
   "execution_count": 20,
   "metadata": {},
   "outputs": [
    {
     "data": {
      "text/html": [
       "<div>\n",
       "<style scoped>\n",
       "    .dataframe tbody tr th:only-of-type {\n",
       "        vertical-align: middle;\n",
       "    }\n",
       "\n",
       "    .dataframe tbody tr th {\n",
       "        vertical-align: top;\n",
       "    }\n",
       "\n",
       "    .dataframe thead th {\n",
       "        text-align: right;\n",
       "    }\n",
       "</style>\n",
       "<table border=\"1\" class=\"dataframe\">\n",
       "  <thead>\n",
       "    <tr style=\"text-align: right;\">\n",
       "      <th></th>\n",
       "      <th>neighborhood</th>\n",
       "      <th>offense_category</th>\n",
       "      <th>offense_count</th>\n",
       "      <th>offense_type</th>\n",
       "      <th>report_date</th>\n",
       "      <th>occur_datetime</th>\n",
       "    </tr>\n",
       "  </thead>\n",
       "  <tbody>\n",
       "    <tr>\n",
       "      <th>1</th>\n",
       "      <td>Centennial</td>\n",
       "      <td>Fraud Offenses</td>\n",
       "      <td>1</td>\n",
       "      <td>Identity Theft</td>\n",
       "      <td>2017-01-20</td>\n",
       "      <td>2000-01-20 16:15:00</td>\n",
       "    </tr>\n",
       "    <tr>\n",
       "      <th>2</th>\n",
       "      <td>Montavilla</td>\n",
       "      <td>Fraud Offenses</td>\n",
       "      <td>1</td>\n",
       "      <td>False Pretenses/Swindle/Confidence Game</td>\n",
       "      <td>2017-01-09</td>\n",
       "      <td>2003-12-01 08:00:00</td>\n",
       "    </tr>\n",
       "    <tr>\n",
       "      <th>5</th>\n",
       "      <td>King</td>\n",
       "      <td>Fraud Offenses</td>\n",
       "      <td>1</td>\n",
       "      <td>Identity Theft</td>\n",
       "      <td>2017-01-03</td>\n",
       "      <td>2010-11-28 16:12:00</td>\n",
       "    </tr>\n",
       "    <tr>\n",
       "      <th>6</th>\n",
       "      <td>Vernon</td>\n",
       "      <td>Fraud Offenses</td>\n",
       "      <td>1</td>\n",
       "      <td>False Pretenses/Swindle/Confidence Game</td>\n",
       "      <td>2017-01-26</td>\n",
       "      <td>2013-11-08 12:00:00</td>\n",
       "    </tr>\n",
       "    <tr>\n",
       "      <th>7</th>\n",
       "      <td>Vernon</td>\n",
       "      <td>Fraud Offenses</td>\n",
       "      <td>1</td>\n",
       "      <td>Identity Theft</td>\n",
       "      <td>2017-01-26</td>\n",
       "      <td>2013-11-08 12:00:00</td>\n",
       "    </tr>\n",
       "    <tr>\n",
       "      <th>...</th>\n",
       "      <td>...</td>\n",
       "      <td>...</td>\n",
       "      <td>...</td>\n",
       "      <td>...</td>\n",
       "      <td>...</td>\n",
       "      <td>...</td>\n",
       "    </tr>\n",
       "    <tr>\n",
       "      <th>41026</th>\n",
       "      <td>Parkrose</td>\n",
       "      <td>Drug/Narcotic Offenses</td>\n",
       "      <td>1</td>\n",
       "      <td>Drug/Narcotic Violations</td>\n",
       "      <td>2017-08-31</td>\n",
       "      <td>2017-08-31 20:05:00</td>\n",
       "    </tr>\n",
       "    <tr>\n",
       "      <th>41027</th>\n",
       "      <td>Sumner</td>\n",
       "      <td>Drug/Narcotic Offenses</td>\n",
       "      <td>1</td>\n",
       "      <td>Drug/Narcotic Violations</td>\n",
       "      <td>2017-08-31</td>\n",
       "      <td>2017-08-31 05:35:00</td>\n",
       "    </tr>\n",
       "    <tr>\n",
       "      <th>41028</th>\n",
       "      <td>Hazelwood</td>\n",
       "      <td>Prostitution Offenses</td>\n",
       "      <td>1</td>\n",
       "      <td>Prostitution</td>\n",
       "      <td>2017-08-31</td>\n",
       "      <td>2017-08-31 16:19:00</td>\n",
       "    </tr>\n",
       "    <tr>\n",
       "      <th>41029</th>\n",
       "      <td>Hazelwood</td>\n",
       "      <td>Prostitution Offenses</td>\n",
       "      <td>1</td>\n",
       "      <td>Prostitution</td>\n",
       "      <td>2017-08-31</td>\n",
       "      <td>2017-08-31 19:59:00</td>\n",
       "    </tr>\n",
       "    <tr>\n",
       "      <th>41031</th>\n",
       "      <td>Foster-Powell</td>\n",
       "      <td>Weapon Law Violations</td>\n",
       "      <td>1</td>\n",
       "      <td>Weapons Law Violations</td>\n",
       "      <td>2017-08-31</td>\n",
       "      <td>2017-08-31 23:54:00</td>\n",
       "    </tr>\n",
       "  </tbody>\n",
       "</table>\n",
       "<p>37168 rows × 6 columns</p>\n",
       "</div>"
      ],
      "text/plain": [
       "        neighborhood        offense_category  offense_count  \\\n",
       "1         Centennial          Fraud Offenses              1   \n",
       "2         Montavilla          Fraud Offenses              1   \n",
       "5               King          Fraud Offenses              1   \n",
       "6             Vernon          Fraud Offenses              1   \n",
       "7             Vernon          Fraud Offenses              1   \n",
       "...              ...                     ...            ...   \n",
       "41026       Parkrose  Drug/Narcotic Offenses              1   \n",
       "41027         Sumner  Drug/Narcotic Offenses              1   \n",
       "41028      Hazelwood   Prostitution Offenses              1   \n",
       "41029      Hazelwood   Prostitution Offenses              1   \n",
       "41031  Foster-Powell   Weapon Law Violations              1   \n",
       "\n",
       "                                  offense_type report_date      occur_datetime  \n",
       "1                               Identity Theft  2017-01-20 2000-01-20 16:15:00  \n",
       "2      False Pretenses/Swindle/Confidence Game  2017-01-09 2003-12-01 08:00:00  \n",
       "5                               Identity Theft  2017-01-03 2010-11-28 16:12:00  \n",
       "6      False Pretenses/Swindle/Confidence Game  2017-01-26 2013-11-08 12:00:00  \n",
       "7                               Identity Theft  2017-01-26 2013-11-08 12:00:00  \n",
       "...                                        ...         ...                 ...  \n",
       "41026                 Drug/Narcotic Violations  2017-08-31 2017-08-31 20:05:00  \n",
       "41027                 Drug/Narcotic Violations  2017-08-31 2017-08-31 05:35:00  \n",
       "41028                             Prostitution  2017-08-31 2017-08-31 16:19:00  \n",
       "41029                             Prostitution  2017-08-31 2017-08-31 19:59:00  \n",
       "41031                   Weapons Law Violations  2017-08-31 2017-08-31 23:54:00  \n",
       "\n",
       "[37168 rows x 6 columns]"
      ]
     },
     "execution_count": 20,
     "metadata": {},
     "output_type": "execute_result"
    }
   ],
   "source": [
    "df"
   ]
  },
  {
   "cell_type": "code",
   "execution_count": 21,
   "metadata": {},
   "outputs": [],
   "source": [
    "## Analysis"
   ]
  },
  {
   "cell_type": "code",
   "execution_count": 22,
   "metadata": {},
   "outputs": [
    {
     "data": {
      "text/html": [
       "<div>\n",
       "<style scoped>\n",
       "    .dataframe tbody tr th:only-of-type {\n",
       "        vertical-align: middle;\n",
       "    }\n",
       "\n",
       "    .dataframe tbody tr th {\n",
       "        vertical-align: top;\n",
       "    }\n",
       "\n",
       "    .dataframe thead th {\n",
       "        text-align: right;\n",
       "    }\n",
       "</style>\n",
       "<table border=\"1\" class=\"dataframe\">\n",
       "  <thead>\n",
       "    <tr style=\"text-align: right;\">\n",
       "      <th></th>\n",
       "      <th>neighborhood</th>\n",
       "      <th>offense_category</th>\n",
       "      <th>offense_count</th>\n",
       "      <th>offense_type</th>\n",
       "      <th>report_date</th>\n",
       "      <th>occur_datetime</th>\n",
       "    </tr>\n",
       "  </thead>\n",
       "  <tbody>\n",
       "    <tr>\n",
       "      <th>1</th>\n",
       "      <td>Centennial</td>\n",
       "      <td>Fraud Offenses</td>\n",
       "      <td>1</td>\n",
       "      <td>Identity Theft</td>\n",
       "      <td>2017-01-20</td>\n",
       "      <td>2000-01-20 16:15:00</td>\n",
       "    </tr>\n",
       "    <tr>\n",
       "      <th>2</th>\n",
       "      <td>Montavilla</td>\n",
       "      <td>Fraud Offenses</td>\n",
       "      <td>1</td>\n",
       "      <td>False Pretenses/Swindle/Confidence Game</td>\n",
       "      <td>2017-01-09</td>\n",
       "      <td>2003-12-01 08:00:00</td>\n",
       "    </tr>\n",
       "    <tr>\n",
       "      <th>5</th>\n",
       "      <td>King</td>\n",
       "      <td>Fraud Offenses</td>\n",
       "      <td>1</td>\n",
       "      <td>Identity Theft</td>\n",
       "      <td>2017-01-03</td>\n",
       "      <td>2010-11-28 16:12:00</td>\n",
       "    </tr>\n",
       "    <tr>\n",
       "      <th>6</th>\n",
       "      <td>Vernon</td>\n",
       "      <td>Fraud Offenses</td>\n",
       "      <td>1</td>\n",
       "      <td>False Pretenses/Swindle/Confidence Game</td>\n",
       "      <td>2017-01-26</td>\n",
       "      <td>2013-11-08 12:00:00</td>\n",
       "    </tr>\n",
       "    <tr>\n",
       "      <th>7</th>\n",
       "      <td>Vernon</td>\n",
       "      <td>Fraud Offenses</td>\n",
       "      <td>1</td>\n",
       "      <td>Identity Theft</td>\n",
       "      <td>2017-01-26</td>\n",
       "      <td>2013-11-08 12:00:00</td>\n",
       "    </tr>\n",
       "  </tbody>\n",
       "</table>\n",
       "</div>"
      ],
      "text/plain": [
       "  neighborhood offense_category  offense_count  \\\n",
       "1   Centennial   Fraud Offenses              1   \n",
       "2   Montavilla   Fraud Offenses              1   \n",
       "5         King   Fraud Offenses              1   \n",
       "6       Vernon   Fraud Offenses              1   \n",
       "7       Vernon   Fraud Offenses              1   \n",
       "\n",
       "                              offense_type report_date      occur_datetime  \n",
       "1                           Identity Theft  2017-01-20 2000-01-20 16:15:00  \n",
       "2  False Pretenses/Swindle/Confidence Game  2017-01-09 2003-12-01 08:00:00  \n",
       "5                           Identity Theft  2017-01-03 2010-11-28 16:12:00  \n",
       "6  False Pretenses/Swindle/Confidence Game  2017-01-26 2013-11-08 12:00:00  \n",
       "7                           Identity Theft  2017-01-26 2013-11-08 12:00:00  "
      ]
     },
     "execution_count": 22,
     "metadata": {},
     "output_type": "execute_result"
    }
   ],
   "source": [
    "df.head()"
   ]
  },
  {
   "cell_type": "code",
   "execution_count": 23,
   "metadata": {},
   "outputs": [
    {
     "data": {
      "text/plain": [
       "Timestamp('1979-09-16 08:00:00')"
      ]
     },
     "execution_count": 23,
     "metadata": {},
     "output_type": "execute_result"
    }
   ],
   "source": [
    "#Oldest values\n",
    "df[\"occur_datetime\"].min()"
   ]
  },
  {
   "cell_type": "code",
   "execution_count": 24,
   "metadata": {},
   "outputs": [],
   "source": [
    "#Time to report"
   ]
  },
  {
   "cell_type": "code",
   "execution_count": 25,
   "metadata": {},
   "outputs": [],
   "source": [
    "#Most Crime Hour (by num row)"
   ]
  },
  {
   "cell_type": "code",
   "execution_count": 26,
   "metadata": {},
   "outputs": [
    {
     "data": {
      "text/plain": [
       "occur_datetime\n",
       "2017-06-17 19:00:00    42\n",
       "2017-01-01 01:00:00    25\n",
       "2017-02-14 12:00:00    24\n",
       "2017-05-25 20:00:00    24\n",
       "2017-05-15 21:00:00    23\n",
       "                       ..\n",
       "2004-07-21 21:00:00     0\n",
       "2004-07-21 22:00:00     0\n",
       "2004-07-21 23:00:00     0\n",
       "2004-07-22 00:00:00     0\n",
       "1998-09-08 15:00:00     0\n",
       "Name: offense_count, Length: 332752, dtype: int64"
      ]
     },
     "execution_count": 26,
     "metadata": {},
     "output_type": "execute_result"
    }
   ],
   "source": [
    "#Most Crime Hour (by offense_count)\n",
    "df.groupby(pd.Grouper(key =\"occur_datetime\", freq = \"1h\"))[\"offense_count\"].count().sort_values(ascending = False)"
   ]
  },
  {
   "cell_type": "code",
   "execution_count": 33,
   "metadata": {},
   "outputs": [
    {
     "data": {
      "text/plain": [
       "<matplotlib.axes._subplots.AxesSubplot at 0x2018d32b208>"
      ]
     },
     "execution_count": 33,
     "metadata": {},
     "output_type": "execute_result"
    },
    {
     "data": {
      "image/png": "[encoded data removed]",
      "text/plain": [
       "<Figure size 432x288 with 1 Axes>"
      ]
     },
     "metadata": {
      "needs_background": "light"
     },
     "output_type": "display_data"
    }
   ],
   "source": [
    "df.groupby(df[\"occur_datetime\"].dt.hour)[\"offense_count\"].sum().plot(kind = \"bar\")"
   ]
  },
  {
   "cell_type": "code",
   "execution_count": 28,
   "metadata": {},
   "outputs": [
    {
     "data": {
      "text/plain": [
       "Downtown               2650\n",
       "Hazelwood              2484\n",
       "Lents                  1422\n",
       "Powellhurst-Gilbert    1355\n",
       "Old Town/Chinatown     1242\n",
       "Centennial             1181\n",
       "Northwest              1095\n",
       "Montavilla              993\n",
       "Pearl                   972\n",
       "Lloyd                   920\n",
       "Name: neighborhood, dtype: int64"
      ]
     },
     "execution_count": 28,
     "metadata": {},
     "output_type": "execute_result"
    }
   ],
   "source": [
    "#Most Crime Neighborhood\n",
    "df[\"neighborhood\"].value_counts().head(10)"
   ]
  },
  {
   "cell_type": "code",
   "execution_count": 29,
   "metadata": {},
   "outputs": [],
   "source": [
    "#Most Common Crime"
   ]
  },
  {
   "cell_type": "code",
   "execution_count": 30,
   "metadata": {},
   "outputs": [
    {
     "data": {
      "text/plain": [
       "neighborhood\n",
       "Alameda                  1\n",
       "Northwest Industrial     1\n",
       "Northwest Heights        1\n",
       "North Tabor              1\n",
       "Multnomah                1\n",
       "                        ..\n",
       "Eastmoreland             2\n",
       "Wilkes                   3\n",
       "Powellhurst-Gilbert      3\n",
       "Creston-Kenilworth       4\n",
       "Kenton                  16\n",
       "Name: offense_count, Length: 96, dtype: int64"
      ]
     },
     "execution_count": 30,
     "metadata": {},
     "output_type": "execute_result"
    }
   ],
   "source": [
    "#Most Crime Neighborhood (offense_count)\n",
    "df.groupby(\"neighborhood\")[\"offense_count\"].max().sort_values(ascending = True)"
   ]
  },
  {
   "cell_type": "code",
   "execution_count": 31,
   "metadata": {},
   "outputs": [
    {
     "data": {
      "text/plain": [
       "Hazelwood              329\n",
       "Lents                  240\n",
       "Powellhurst-Gilbert    194\n",
       "Centennial             187\n",
       "Montavilla             157\n",
       "                      ... \n",
       "Woodland Park            1\n",
       "Northwest Heights        1\n",
       "Crestwood                1\n",
       "Far Southwest            1\n",
       "Maplewood                1\n",
       "Name: neighborhood, Length: 90, dtype: int64"
      ]
     },
     "execution_count": 31,
     "metadata": {},
     "output_type": "execute_result"
    }
   ],
   "source": [
    "df[df[\"offense_type\"] == \"Motor Vehicle Theft\"][\"neighborhood\"].value_counts()"
   ]
  },
  {
   "cell_type": "code",
   "execution_count": null,
   "metadata": {},
   "outputs": [],
   "source": []
  }
 ],
 "metadata": {
  "kernelspec": {
   "display_name": "portland_crime",
   "language": "python",
   "name": "portland_crime"
  },
  "language_info": {
   "codemirror_mode": {
    "name": "ipython",
    "version": 3
   },
   "file_extension": ".py",
   "mimetype": "text/x-python",
   "name": "python",
   "nbconvert_exporter": "python",
   "pygments_lexer": "ipython3",
   "version": "3.7.5"
  }
 },
 "nbformat": 4,
 "nbformat_minor": 2
}
